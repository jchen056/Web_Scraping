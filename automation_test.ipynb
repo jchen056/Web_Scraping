{
 "cells": [
  {
   "cell_type": "code",
   "execution_count": 2,
   "id": "dd754ece",
   "metadata": {},
   "outputs": [],
   "source": [
    "# Import libraries and packages for the project \n",
    "# import selenium\n",
    "from selenium import webdriver\n",
    "from selenium.webdriver.common.keys import Keys\n",
    "from bs4 import BeautifulSoup#pulling data out of HTML files\n",
    "from time import sleep#slow down the execution to pass the security check\n",
    "import csv\n",
    "import pandas as pd"
   ]
  },
  {
   "cell_type": "code",
   "execution_count": 3,
   "id": "46b4c019",
   "metadata": {},
   "outputs": [
    {
     "ename": "UnicodeDecodeError",
     "evalue": "'utf-8' codec can't decode byte 0x90 in position 22: invalid start byte",
     "output_type": "error",
     "traceback": [
      "\u001b[0;31m---------------------------------------------------------------------------\u001b[0m",
      "\u001b[0;31mUnicodeDecodeError\u001b[0m                        Traceback (most recent call last)",
      "Input \u001b[0;32mIn [3]\u001b[0m, in \u001b[0;36m<cell line: 1>\u001b[0;34m()\u001b[0m\n\u001b[0;32m----> 1\u001b[0m df\u001b[38;5;241m=\u001b[39m\u001b[43mpd\u001b[49m\u001b[38;5;241;43m.\u001b[39;49m\u001b[43mread_csv\u001b[49m\u001b[43m(\u001b[49m\u001b[38;5;124;43m'\u001b[39;49m\u001b[38;5;124;43mdata/CUNY_students.csv\u001b[39;49m\u001b[38;5;124;43m'\u001b[39;49m\u001b[43m)\u001b[49m\n\u001b[1;32m      2\u001b[0m df\u001b[38;5;241m.\u001b[39mhead()\n",
      "File \u001b[0;32m~/opt/anaconda3/lib/python3.9/site-packages/pandas/util/_decorators.py:311\u001b[0m, in \u001b[0;36mdeprecate_nonkeyword_arguments.<locals>.decorate.<locals>.wrapper\u001b[0;34m(*args, **kwargs)\u001b[0m\n\u001b[1;32m    305\u001b[0m \u001b[38;5;28;01mif\u001b[39;00m \u001b[38;5;28mlen\u001b[39m(args) \u001b[38;5;241m>\u001b[39m num_allow_args:\n\u001b[1;32m    306\u001b[0m     warnings\u001b[38;5;241m.\u001b[39mwarn(\n\u001b[1;32m    307\u001b[0m         msg\u001b[38;5;241m.\u001b[39mformat(arguments\u001b[38;5;241m=\u001b[39marguments),\n\u001b[1;32m    308\u001b[0m         \u001b[38;5;167;01mFutureWarning\u001b[39;00m,\n\u001b[1;32m    309\u001b[0m         stacklevel\u001b[38;5;241m=\u001b[39mstacklevel,\n\u001b[1;32m    310\u001b[0m     )\n\u001b[0;32m--> 311\u001b[0m \u001b[38;5;28;01mreturn\u001b[39;00m \u001b[43mfunc\u001b[49m\u001b[43m(\u001b[49m\u001b[38;5;241;43m*\u001b[39;49m\u001b[43margs\u001b[49m\u001b[43m,\u001b[49m\u001b[43m \u001b[49m\u001b[38;5;241;43m*\u001b[39;49m\u001b[38;5;241;43m*\u001b[39;49m\u001b[43mkwargs\u001b[49m\u001b[43m)\u001b[49m\n",
      "File \u001b[0;32m~/opt/anaconda3/lib/python3.9/site-packages/pandas/io/parsers/readers.py:680\u001b[0m, in \u001b[0;36mread_csv\u001b[0;34m(filepath_or_buffer, sep, delimiter, header, names, index_col, usecols, squeeze, prefix, mangle_dupe_cols, dtype, engine, converters, true_values, false_values, skipinitialspace, skiprows, skipfooter, nrows, na_values, keep_default_na, na_filter, verbose, skip_blank_lines, parse_dates, infer_datetime_format, keep_date_col, date_parser, dayfirst, cache_dates, iterator, chunksize, compression, thousands, decimal, lineterminator, quotechar, quoting, doublequote, escapechar, comment, encoding, encoding_errors, dialect, error_bad_lines, warn_bad_lines, on_bad_lines, delim_whitespace, low_memory, memory_map, float_precision, storage_options)\u001b[0m\n\u001b[1;32m    665\u001b[0m kwds_defaults \u001b[38;5;241m=\u001b[39m _refine_defaults_read(\n\u001b[1;32m    666\u001b[0m     dialect,\n\u001b[1;32m    667\u001b[0m     delimiter,\n\u001b[0;32m   (...)\u001b[0m\n\u001b[1;32m    676\u001b[0m     defaults\u001b[38;5;241m=\u001b[39m{\u001b[38;5;124m\"\u001b[39m\u001b[38;5;124mdelimiter\u001b[39m\u001b[38;5;124m\"\u001b[39m: \u001b[38;5;124m\"\u001b[39m\u001b[38;5;124m,\u001b[39m\u001b[38;5;124m\"\u001b[39m},\n\u001b[1;32m    677\u001b[0m )\n\u001b[1;32m    678\u001b[0m kwds\u001b[38;5;241m.\u001b[39mupdate(kwds_defaults)\n\u001b[0;32m--> 680\u001b[0m \u001b[38;5;28;01mreturn\u001b[39;00m \u001b[43m_read\u001b[49m\u001b[43m(\u001b[49m\u001b[43mfilepath_or_buffer\u001b[49m\u001b[43m,\u001b[49m\u001b[43m \u001b[49m\u001b[43mkwds\u001b[49m\u001b[43m)\u001b[49m\n",
      "File \u001b[0;32m~/opt/anaconda3/lib/python3.9/site-packages/pandas/io/parsers/readers.py:575\u001b[0m, in \u001b[0;36m_read\u001b[0;34m(filepath_or_buffer, kwds)\u001b[0m\n\u001b[1;32m    572\u001b[0m _validate_names(kwds\u001b[38;5;241m.\u001b[39mget(\u001b[38;5;124m\"\u001b[39m\u001b[38;5;124mnames\u001b[39m\u001b[38;5;124m\"\u001b[39m, \u001b[38;5;28;01mNone\u001b[39;00m))\n\u001b[1;32m    574\u001b[0m \u001b[38;5;66;03m# Create the parser.\u001b[39;00m\n\u001b[0;32m--> 575\u001b[0m parser \u001b[38;5;241m=\u001b[39m \u001b[43mTextFileReader\u001b[49m\u001b[43m(\u001b[49m\u001b[43mfilepath_or_buffer\u001b[49m\u001b[43m,\u001b[49m\u001b[43m \u001b[49m\u001b[38;5;241;43m*\u001b[39;49m\u001b[38;5;241;43m*\u001b[39;49m\u001b[43mkwds\u001b[49m\u001b[43m)\u001b[49m\n\u001b[1;32m    577\u001b[0m \u001b[38;5;28;01mif\u001b[39;00m chunksize \u001b[38;5;129;01mor\u001b[39;00m iterator:\n\u001b[1;32m    578\u001b[0m     \u001b[38;5;28;01mreturn\u001b[39;00m parser\n",
      "File \u001b[0;32m~/opt/anaconda3/lib/python3.9/site-packages/pandas/io/parsers/readers.py:933\u001b[0m, in \u001b[0;36mTextFileReader.__init__\u001b[0;34m(self, f, engine, **kwds)\u001b[0m\n\u001b[1;32m    930\u001b[0m     \u001b[38;5;28mself\u001b[39m\u001b[38;5;241m.\u001b[39moptions[\u001b[38;5;124m\"\u001b[39m\u001b[38;5;124mhas_index_names\u001b[39m\u001b[38;5;124m\"\u001b[39m] \u001b[38;5;241m=\u001b[39m kwds[\u001b[38;5;124m\"\u001b[39m\u001b[38;5;124mhas_index_names\u001b[39m\u001b[38;5;124m\"\u001b[39m]\n\u001b[1;32m    932\u001b[0m \u001b[38;5;28mself\u001b[39m\u001b[38;5;241m.\u001b[39mhandles: IOHandles \u001b[38;5;241m|\u001b[39m \u001b[38;5;28;01mNone\u001b[39;00m \u001b[38;5;241m=\u001b[39m \u001b[38;5;28;01mNone\u001b[39;00m\n\u001b[0;32m--> 933\u001b[0m \u001b[38;5;28mself\u001b[39m\u001b[38;5;241m.\u001b[39m_engine \u001b[38;5;241m=\u001b[39m \u001b[38;5;28;43mself\u001b[39;49m\u001b[38;5;241;43m.\u001b[39;49m\u001b[43m_make_engine\u001b[49m\u001b[43m(\u001b[49m\u001b[43mf\u001b[49m\u001b[43m,\u001b[49m\u001b[43m \u001b[49m\u001b[38;5;28;43mself\u001b[39;49m\u001b[38;5;241;43m.\u001b[39;49m\u001b[43mengine\u001b[49m\u001b[43m)\u001b[49m\n",
      "File \u001b[0;32m~/opt/anaconda3/lib/python3.9/site-packages/pandas/io/parsers/readers.py:1235\u001b[0m, in \u001b[0;36mTextFileReader._make_engine\u001b[0;34m(self, f, engine)\u001b[0m\n\u001b[1;32m   1232\u001b[0m     \u001b[38;5;28;01mraise\u001b[39;00m \u001b[38;5;167;01mValueError\u001b[39;00m(msg)\n\u001b[1;32m   1234\u001b[0m \u001b[38;5;28;01mtry\u001b[39;00m:\n\u001b[0;32m-> 1235\u001b[0m     \u001b[38;5;28;01mreturn\u001b[39;00m \u001b[43mmapping\u001b[49m\u001b[43m[\u001b[49m\u001b[43mengine\u001b[49m\u001b[43m]\u001b[49m\u001b[43m(\u001b[49m\u001b[43mf\u001b[49m\u001b[43m,\u001b[49m\u001b[43m \u001b[49m\u001b[38;5;241;43m*\u001b[39;49m\u001b[38;5;241;43m*\u001b[39;49m\u001b[38;5;28;43mself\u001b[39;49m\u001b[38;5;241;43m.\u001b[39;49m\u001b[43moptions\u001b[49m\u001b[43m)\u001b[49m\n\u001b[1;32m   1236\u001b[0m \u001b[38;5;28;01mexcept\u001b[39;00m \u001b[38;5;167;01mException\u001b[39;00m:\n\u001b[1;32m   1237\u001b[0m     \u001b[38;5;28;01mif\u001b[39;00m \u001b[38;5;28mself\u001b[39m\u001b[38;5;241m.\u001b[39mhandles \u001b[38;5;129;01mis\u001b[39;00m \u001b[38;5;129;01mnot\u001b[39;00m \u001b[38;5;28;01mNone\u001b[39;00m:\n",
      "File \u001b[0;32m~/opt/anaconda3/lib/python3.9/site-packages/pandas/io/parsers/c_parser_wrapper.py:75\u001b[0m, in \u001b[0;36mCParserWrapper.__init__\u001b[0;34m(self, src, **kwds)\u001b[0m\n\u001b[1;32m     72\u001b[0m     kwds\u001b[38;5;241m.\u001b[39mpop(key, \u001b[38;5;28;01mNone\u001b[39;00m)\n\u001b[1;32m     74\u001b[0m kwds[\u001b[38;5;124m\"\u001b[39m\u001b[38;5;124mdtype\u001b[39m\u001b[38;5;124m\"\u001b[39m] \u001b[38;5;241m=\u001b[39m ensure_dtype_objs(kwds\u001b[38;5;241m.\u001b[39mget(\u001b[38;5;124m\"\u001b[39m\u001b[38;5;124mdtype\u001b[39m\u001b[38;5;124m\"\u001b[39m, \u001b[38;5;28;01mNone\u001b[39;00m))\n\u001b[0;32m---> 75\u001b[0m \u001b[38;5;28mself\u001b[39m\u001b[38;5;241m.\u001b[39m_reader \u001b[38;5;241m=\u001b[39m \u001b[43mparsers\u001b[49m\u001b[38;5;241;43m.\u001b[39;49m\u001b[43mTextReader\u001b[49m\u001b[43m(\u001b[49m\u001b[43msrc\u001b[49m\u001b[43m,\u001b[49m\u001b[43m \u001b[49m\u001b[38;5;241;43m*\u001b[39;49m\u001b[38;5;241;43m*\u001b[39;49m\u001b[43mkwds\u001b[49m\u001b[43m)\u001b[49m\n\u001b[1;32m     77\u001b[0m \u001b[38;5;28mself\u001b[39m\u001b[38;5;241m.\u001b[39munnamed_cols \u001b[38;5;241m=\u001b[39m \u001b[38;5;28mself\u001b[39m\u001b[38;5;241m.\u001b[39m_reader\u001b[38;5;241m.\u001b[39munnamed_cols\n\u001b[1;32m     79\u001b[0m \u001b[38;5;66;03m# error: Cannot determine type of 'names'\u001b[39;00m\n",
      "File \u001b[0;32m~/opt/anaconda3/lib/python3.9/site-packages/pandas/_libs/parsers.pyx:544\u001b[0m, in \u001b[0;36mpandas._libs.parsers.TextReader.__cinit__\u001b[0;34m()\u001b[0m\n",
      "File \u001b[0;32m~/opt/anaconda3/lib/python3.9/site-packages/pandas/_libs/parsers.pyx:633\u001b[0m, in \u001b[0;36mpandas._libs.parsers.TextReader._get_header\u001b[0;34m()\u001b[0m\n",
      "File \u001b[0;32m~/opt/anaconda3/lib/python3.9/site-packages/pandas/_libs/parsers.pyx:847\u001b[0m, in \u001b[0;36mpandas._libs.parsers.TextReader._tokenize_rows\u001b[0;34m()\u001b[0m\n",
      "File \u001b[0;32m~/opt/anaconda3/lib/python3.9/site-packages/pandas/_libs/parsers.pyx:1952\u001b[0m, in \u001b[0;36mpandas._libs.parsers.raise_parser_error\u001b[0;34m()\u001b[0m\n",
      "\u001b[0;31mUnicodeDecodeError\u001b[0m: 'utf-8' codec can't decode byte 0x90 in position 22: invalid start byte"
     ]
    }
   ],
   "source": [
    "df=pd.read_csv('data/CUNY_students.csv')\n",
    "df.head()"
   ]
  },
  {
   "cell_type": "markdown",
   "id": "3063a41d",
   "metadata": {},
   "source": [
    "good Youtube videos:\n",
    "1. [link]https://www.youtube.com/watch?v=zkfLAY2OrtI\n",
    "2. [link]https://www.linkedin.com/learning/python-automation-and-testing/what-is-the-html-dom-structure?autoplay=true&resume=false"
   ]
  },
  {
   "cell_type": "code",
   "execution_count": 2,
   "id": "e344f73d",
   "metadata": {},
   "outputs": [],
   "source": [
    "# Task 1: Login to Linkedin\n",
    "\n",
    "credential=open('login_credential.txt')\n",
    "line=credential.readlines()\n",
    "username=line[0]\n",
    "password=line[1]\n",
    "\n",
    "# Task 1.1: Open Chrome and Access Linkedin login site\n",
    "driver =webdriver.Chrome()\n",
    "url = 'https://www.linkedin.com/login'\n",
    "driver.get(url)\n",
    "sleep(2)\n",
    "\n",
    "# Task 1.2: Key in login credentials\n",
    "email_field = driver.find_element('name','session_key')\n",
    "email_field.send_keys(username)\n",
    "sleep(2)\n",
    "\n",
    "password_field = driver.find_element('id','password')\n",
    "password_field.send_keys(password)\n",
    "sleep(2)\n",
    "\n",
    "# Task 1.2: Click the Login button\n",
    "login_field = driver.find_element('xpath',\"/html/body/div/main/div[2]/div[1]/form/div[3]/button\")\n",
    "login_field.click()\n",
    "sleep(3)"
   ]
  },
  {
   "cell_type": "code",
   "execution_count": 3,
   "id": "4a402c08",
   "metadata": {},
   "outputs": [
    {
     "name": "stdout",
     "output_type": "stream",
     "text": [
      "what do you want to search:Jiale Chen\n"
     ]
    }
   ],
   "source": [
    "# Task 2: Search for the profile we want to crawl\n",
    "\n",
    "# Task 2.1: Locate the search bar element\n",
    "search_field = driver.find_element('xpath',\"/html/body/div[5]/header/div/div/div/div[1]/input\")\n",
    "search_field.click()\n",
    "# Task 2.2: Input the search query to the search bar\n",
    "search_query = input(\"what do you want to search:\")#using the list from Dr C\n",
    "search_field.send_keys(search_query)\n",
    "\n",
    "# Task 2.3: Search\n",
    "search_field.send_keys(Keys.RETURN)\n",
    "\n"
   ]
  },
  {
   "cell_type": "code",
   "execution_count": 5,
   "id": "e7ac1924",
   "metadata": {},
   "outputs": [
    {
     "name": "stdout",
     "output_type": "stream",
     "text": [
      "['https://www.linkedin.com/in/jialechen119?miniProfileUrn=urn%3Ali%3Afs_miniProfile%3AACoAAC3-p7sBioNafow2j51hvc6himxBx3Hcxrs', 'https://www.linkedin.com/in/jiale-chen-7765b5207?miniProfileUrn=urn%3Ali%3Afs_miniProfile%3AACoAADSXjQoB3SEWcoHvZLC0oeQTYPHQU12qXGc', 'https://www.linkedin.com/in/jialec?miniProfileUrn=urn%3Ali%3Afs_miniProfile%3AACoAADqwa-ABoWgUbXXY_p9U8iIfHvzToJhW1x4', 'https://www.linkedin.com/in/jiale-chen?miniProfileUrn=urn%3Ali%3Afs_miniProfile%3AACoAACqVTTEB8_z-LXnTvSzmNfofWkWa7NVsU5Y', 'https://www.linkedin.com/in/jiale-chen-a315b8103?miniProfileUrn=urn%3Ali%3Afs_miniProfile%3AACoAABpAYsUB4AjDbVyqTMR7Qj8OC9CCMRWOkfw', 'https://www.linkedin.com/in/jiale-chen-29b639a7?miniProfileUrn=urn%3Ali%3Afs_miniProfile%3AACoAABayaVcBSxyZx9J7irS1PDUFjWN247KQ_FU', 'https://www.linkedin.com/in/jia-le-chen-bb11ab15b?miniProfileUrn=urn%3Ali%3Afs_miniProfile%3AACoAACZLNvUB2F-fwwdMGxH6NIgSW4LuSdmjKU8', 'https://www.linkedin.com/in/jiale-jalen-chen-8a025521a?miniProfileUrn=urn%3Ali%3Afs_miniProfile%3AACoAADc1s7gBl8HyNbb0zwUjWBRHE9mW8-T8l-s', 'https://www.linkedin.com/in/jiale-chen-46208b215?miniProfileUrn=urn%3Ali%3Afs_miniProfile%3AACoAADZLZMoB-EyEPG047RykoBF_Peeq1MELTaY']\n"
     ]
    }
   ],
   "source": [
    "# Task 3: Scrape the URLs of the profiles\n",
    "\n",
    "# Task 3.1: Write a function to extract the URLs of one page\n",
    "def GetURL():\n",
    "    page_source = BeautifulSoup(driver.page_source)\n",
    "    profiles = page_source.find_all('div',class_=\"entity-result__item\") \n",
    "\n",
    "\n",
    "    all_profile_url=[]\n",
    "    for profile in profiles:\n",
    "        profile_url=profile.find('a',class_=\"app-aware-link\")['href']\n",
    "        if profile_url not in all_profile_url:\n",
    "            all_profile_url.append(profile_url)\n",
    "    return all_profile_url\n",
    "\n",
    "# print(GetURL())\n",
    "\n",
    "   \n",
    "\n",
    "\n",
    "# Task 3.2: Navigate through the next pages, and extract the profile URLs of each page\n",
    "\n",
    "def GetURL_pages():\n",
    "    input_page = 1\n",
    "    URLs_all_page = []\n",
    "    for page in range(input_page):\n",
    "        URLs_one_page = GetURL()\n",
    "        driver.execute_script('window.scrollTo(0,document.body.scrollHeight)')#we need to scroll down to Next page button\n",
    "        sleep(1)\n",
    "        next_button = driver.find_element('xpath',\"//button[@aria-label='Next'][@type='button']\").click()\n",
    "        URLs_all_page = URLs_all_page + URLs_one_page\n",
    "        \n",
    "        sleep(1)\n",
    "    return URLs_all_page\n",
    "\n",
    "URLs_all_page=GetURL_pages()\n",
    "print(URLs_all_page)"
   ]
  },
  {
   "cell_type": "code",
   "execution_count": 78,
   "id": "2bc1b0d2",
   "metadata": {},
   "outputs": [
    {
     "data": {
      "text/plain": [
       "'https://www.linkedin.com/in/jialechen119?miniProfileUrn=urn%3Ali%3Afs_miniProfile%3AACoAAC3-p7sBioNafow2j51hvc6himxBx3Hcxrs'"
      ]
     },
     "execution_count": 78,
     "metadata": {},
     "output_type": "execute_result"
    }
   ],
   "source": [
    "URLs_all_page[0]"
   ]
  },
  {
   "cell_type": "code",
   "execution_count": 6,
   "id": "c852d107",
   "metadata": {},
   "outputs": [
    {
     "name": "stdout",
     "output_type": "stream",
     "text": [
      "https://www.linkedin.com/in/jialechen119?miniProfileUrn=urn%3Ali%3Afs_miniProfile%3AACoAAC3-p7sBioNafow2j51hvc6himxBx3Hcxrs\n",
      "\n",
      "\n",
      "https://www.linkedin.com/in/jiale-chen-7765b5207?miniProfileUrn=urn%3Ali%3Afs_miniProfile%3AACoAADSXjQoB3SEWcoHvZLC0oeQTYPHQU12qXGc\n",
      "\n",
      "\n",
      "https://www.linkedin.com/in/jialec?miniProfileUrn=urn%3Ali%3Afs_miniProfile%3AACoAADqwa-ABoWgUbXXY_p9U8iIfHvzToJhW1x4\n",
      "\n",
      "\n",
      "https://www.linkedin.com/in/jiale-chen?miniProfileUrn=urn%3Ali%3Afs_miniProfile%3AACoAACqVTTEB8_z-LXnTvSzmNfofWkWa7NVsU5Y\n",
      "\n",
      "\n",
      "https://www.linkedin.com/in/jiale-chen-a315b8103?miniProfileUrn=urn%3Ali%3Afs_miniProfile%3AACoAABpAYsUB4AjDbVyqTMR7Qj8OC9CCMRWOkfw\n",
      "\n",
      "\n",
      "https://www.linkedin.com/in/jiale-chen-29b639a7?miniProfileUrn=urn%3Ali%3Afs_miniProfile%3AACoAABayaVcBSxyZx9J7irS1PDUFjWN247KQ_FU\n",
      "\n",
      "\n",
      "https://www.linkedin.com/in/jia-le-chen-bb11ab15b?miniProfileUrn=urn%3Ali%3Afs_miniProfile%3AACoAACZLNvUB2F-fwwdMGxH6NIgSW4LuSdmjKU8\n",
      "\n",
      "\n",
      "https://www.linkedin.com/in/jiale-jalen-chen-8a025521a?miniProfileUrn=urn%3Ali%3Afs_miniProfile%3AACoAADc1s7gBl8HyNbb0zwUjWBRHE9mW8-T8l-s\n",
      "\n",
      "\n",
      "https://www.linkedin.com/in/jiale-chen-46208b215?miniProfileUrn=urn%3Ali%3Afs_miniProfile%3AACoAADZLZMoB-EyEPG047RykoBF_Peeq1MELTaY\n",
      "\n",
      "\n"
     ]
    }
   ],
   "source": [
    "# Task 4: Scrape the data of 1 Linkedin profile, and write the data to a .CSV file\n",
    "with open('output.csv', 'w',  newline = '') as file_output:\n",
    "    headers = ['Name', 'Job Title', 'Location', 'URL']\n",
    "    writer = csv.DictWriter(file_output, delimiter=',', lineterminator='\\n',fieldnames=headers)\n",
    "    writer.writeheader()\n",
    "    \n",
    "    for linkedin_URL in URLs_all_page:\n",
    "        driver.get(linkedin_URL)\n",
    "        print(linkedin_URL)\n",
    "        sleep(1)\n",
    "        page_source = BeautifulSoup(driver.page_source, \"html.parser\")\n",
    "        info_div = page_source.find('div',{'class':'ph5 pb5'})\n",
    "\n",
    "        name = info_div.find('h1', class_='text-heading-xlarge inline t-24 v-align-middle break-words').get_text().strip() #Remove unnecessary characters \n",
    "        #print('--- Profile name is: ', name)\n",
    "        location = info_div.find('span', class_='text-body-small inline t-black--light break-words').get_text().strip() #Remove unnecessary characters \n",
    "        #print('--- Profile location is: ', location)\n",
    "        title = info_div.find('div', class_='text-body-medium break-words').get_text().strip()\n",
    "        #print('--- Profile title is: ', title)\n",
    "        writer.writerow({headers[0]:name, headers[1]:location, headers[2]:title, headers[3]:linkedin_URL})\n",
    "        print('\\n')\n",
    "    \n",
    "        \n",
    "\n"
   ]
  },
  {
   "cell_type": "code",
   "execution_count": null,
   "id": "e6a25d51",
   "metadata": {},
   "outputs": [],
   "source": []
  }
 ],
 "metadata": {
  "kernelspec": {
   "display_name": "Python 3 (ipykernel)",
   "language": "python",
   "name": "python3"
  },
  "language_info": {
   "codemirror_mode": {
    "name": "ipython",
    "version": 3
   },
   "file_extension": ".py",
   "mimetype": "text/x-python",
   "name": "python",
   "nbconvert_exporter": "python",
   "pygments_lexer": "ipython3",
   "version": "3.9.12"
  }
 },
 "nbformat": 4,
 "nbformat_minor": 5
}
