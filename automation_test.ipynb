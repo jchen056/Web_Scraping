{
 "cells": [
  {
   "cell_type": "code",
   "execution_count": 1,
   "id": "dd754ece",
   "metadata": {},
   "outputs": [
    {
     "data": {
      "text/plain": [
       "'/Users/jchen056/opt/anaconda3/lib/python3.9/site-packages/chromedriver_autoinstaller/109/chromedriver'"
      ]
     },
     "execution_count": 1,
     "metadata": {},
     "output_type": "execute_result"
    }
   ],
   "source": [
    "# Import libraries and packages for the project \n",
    "# import selenium\n",
    "from selenium import webdriver\n",
    "from selenium.webdriver.common.keys import Keys\n",
    "from bs4 import BeautifulSoup#pulling data out of HTML files\n",
    "from time import sleep#slow down the execution to pass the security check\n",
    "import csv\n",
    "import pandas as pd\n",
    "import numpy as np\n",
    "import math\n",
    "import re\n",
    "import chromedriver_autoinstaller\n",
    "chromedriver_autoinstaller.install()"
   ]
  },
  {
   "cell_type": "code",
   "execution_count": 2,
   "id": "0d4c0703",
   "metadata": {},
   "outputs": [],
   "source": [
    "df=pd.read_csv('data/CUNY_students.csv')\n",
    "df['Name']=df['FName']+' '+df['LName']\n",
    "df.dropna(inplace=True)\n"
   ]
  },
  {
   "cell_type": "code",
   "execution_count": 3,
   "id": "46b4c019",
   "metadata": {},
   "outputs": [
    {
     "name": "stdout",
     "output_type": "stream",
     "text": [
      "[' Andrew  Blake ', ' Huma  Gulnar ', ' Ivan  Baez ', ' Nkem  Stanley ', ' Son  Seung ', 'Adashima  Oyo ', 'Adjiwanou  Gbagba ', 'Ainsley   Parkinson  ', 'Alice  Warren ', 'Alicia  Orellana ', 'Amarachukwu  Enemuo ', 'Amarilis   Bueno ', 'Ana  Alas ', 'Angela  Padilla ', 'Anthony  Cruz-Balbardy ', 'Beatriz   Salazar ', 'Beatriz   Salazar ', 'Beresford  \\u202fKurton ', 'Carol   Woodburn-Mc Donald  ', 'Cathy   Ho ', 'Cathy  Ho ', 'Clara  Niet-Wire ', 'Clyde   Lewis ', 'David   Clarke ', 'Desire  Miessein  ', 'Diomaris   Padilla ', 'Dorean   Flores ', 'Femi   Ariyo ', 'Francoise  Sidime      ', 'Gillian   Cain ', 'Giselle   Acco ', 'Giselle  Acco ', 'Huma   Gulnar ', 'Irena  Jmukhadze ', 'Ivette   Beckles ', 'Jason  Mighty ', 'Jean-Marc  Carre  ', 'Jenny  Paredes ', 'Jo Ann   Caban ', 'Jodi-Ann   Young ', 'Jodi-Ann  Young ', 'Jonathan  Blaize ', 'Juliet  Baidoo ', 'Katrina   Cruz   ', 'Kelly  Levano ', 'Kelly  Levano ', 'Kirby   Brown ', 'Lina   Loaiza  ', 'Loni   Collins ', 'Lyndon   Haynes ', 'Magalie   Bruneus  ', 'Magalie  Bruneus ', 'Maria   Meyer ', 'Maria  Ballesteros ', 'Marsha  Allen ', 'Marvin  Bennett ', 'Melissa  Branker ', 'Michael  Tavarez ', 'Michael Jean   Pierre ', 'Minerva   Francis ', 'Minerva  Francis ', 'Moody   Saint Louis ', 'Nadine  Bennett ', 'Natalie  Dastas ', 'Omar  Santiago ', 'Onyekwere  Onwumere ', 'Promise  Idowu ', 'Rachel  Boyll ', 'Rasheem  Northington ', 'Rasheen  Allen ', 'Reginald  Dorcely ', 'Rene  Nia ', 'Ricky   Kisson ', 'Rita   Barley ', 'Sabine   Jacques ', 'Samira   Daher  ', 'Samira  Daher ', 'Sefton   Bennett ', 'Sefton  Bennett ', 'Seung   Son  ', 'Sha-Ron   Pierre ', 'Shari  Walcott ', 'Sharon  Lall ', 'Skmohammad   Uddin ', 'Sybil   Tobierre  ', 'Tamara   Battle ', 'Tawyanna   Joseph ', 'Uchenna  Unachukwu  ', 'Vadim   Acosta ', 'Wainwright   Joseph ', 'Walter  Greigg ', 'Winzy  Many ']\n",
      "92\n",
      "90\n"
     ]
    }
   ],
   "source": [
    "# df['Name']=df['Name']+df['Campus']\n",
    "\n",
    "names=[]\n",
    "\n",
    "for i in list(df['Name']):\n",
    "    cur=i.replace(u'\\xa0', u' ')\n",
    "    names.append(cur)\n",
    "print(sorted(names))\n",
    "print(len(names))\n",
    "print(len(set(names)))\n",
    "\n"
   ]
  },
  {
   "cell_type": "code",
   "execution_count": 4,
   "id": "0227cb28",
   "metadata": {},
   "outputs": [
    {
     "data": {
      "text/plain": [
       "[' Andrew  Blake ',\n",
       " ' Huma  Gulnar ',\n",
       " ' Ivan  Baez ',\n",
       " ' Nkem  Stanley ',\n",
       " ' Son  Seung ',\n",
       " 'Adashima  Oyo ',\n",
       " 'Adjiwanou  Gbagba ',\n",
       " 'Ainsley   Parkinson  ',\n",
       " 'Alice  Warren ',\n",
       " 'Alicia  Orellana ',\n",
       " 'Amarachukwu  Enemuo ',\n",
       " 'Amarilis   Bueno ',\n",
       " 'Ana  Alas ',\n",
       " 'Angela  Padilla ',\n",
       " 'Anthony  Cruz-Balbardy ',\n",
       " 'Beatriz   Salazar ',\n",
       " 'Beresford  \\u202fKurton ',\n",
       " 'Carol   Woodburn-Mc Donald  ',\n",
       " 'Cathy   Ho ',\n",
       " 'Cathy  Ho ',\n",
       " 'Clara  Niet-Wire ',\n",
       " 'Clyde   Lewis ',\n",
       " 'David   Clarke ',\n",
       " 'Desire  Miessein  ',\n",
       " 'Diomaris   Padilla ',\n",
       " 'Dorean   Flores ',\n",
       " 'Femi   Ariyo ',\n",
       " 'Francoise  Sidime      ',\n",
       " 'Gillian   Cain ',\n",
       " 'Giselle   Acco ',\n",
       " 'Giselle  Acco ',\n",
       " 'Huma   Gulnar ',\n",
       " 'Irena  Jmukhadze ',\n",
       " 'Ivette   Beckles ',\n",
       " 'Jason  Mighty ',\n",
       " 'Jean-Marc  Carre  ',\n",
       " 'Jenny  Paredes ',\n",
       " 'Jo Ann   Caban ',\n",
       " 'Jodi-Ann   Young ',\n",
       " 'Jodi-Ann  Young ',\n",
       " 'Jonathan  Blaize ',\n",
       " 'Juliet  Baidoo ',\n",
       " 'Katrina   Cruz   ',\n",
       " 'Kelly  Levano ',\n",
       " 'Kirby   Brown ',\n",
       " 'Lina   Loaiza  ',\n",
       " 'Loni   Collins ',\n",
       " 'Lyndon   Haynes ',\n",
       " 'Magalie   Bruneus  ',\n",
       " 'Magalie  Bruneus ',\n",
       " 'Maria   Meyer ',\n",
       " 'Maria  Ballesteros ',\n",
       " 'Marsha  Allen ',\n",
       " 'Marvin  Bennett ',\n",
       " 'Melissa  Branker ',\n",
       " 'Michael  Tavarez ',\n",
       " 'Michael Jean   Pierre ',\n",
       " 'Minerva   Francis ',\n",
       " 'Minerva  Francis ',\n",
       " 'Moody   Saint Louis ',\n",
       " 'Nadine  Bennett ',\n",
       " 'Natalie  Dastas ',\n",
       " 'Omar  Santiago ',\n",
       " 'Onyekwere  Onwumere ',\n",
       " 'Promise  Idowu ',\n",
       " 'Rachel  Boyll ',\n",
       " 'Rasheem  Northington ',\n",
       " 'Rasheen  Allen ',\n",
       " 'Reginald  Dorcely ',\n",
       " 'Rene  Nia ',\n",
       " 'Ricky   Kisson ',\n",
       " 'Rita   Barley ',\n",
       " 'Sabine   Jacques ',\n",
       " 'Samira   Daher  ',\n",
       " 'Samira  Daher ',\n",
       " 'Sefton   Bennett ',\n",
       " 'Sefton  Bennett ',\n",
       " 'Seung   Son  ',\n",
       " 'Sha-Ron   Pierre ',\n",
       " 'Shari  Walcott ',\n",
       " 'Sharon  Lall ',\n",
       " 'Skmohammad   Uddin ',\n",
       " 'Sybil   Tobierre  ',\n",
       " 'Tamara   Battle ',\n",
       " 'Tawyanna   Joseph ',\n",
       " 'Uchenna  Unachukwu  ',\n",
       " 'Vadim   Acosta ',\n",
       " 'Wainwright   Joseph ',\n",
       " 'Walter  Greigg ',\n",
       " 'Winzy  Many ']"
      ]
     },
     "execution_count": 4,
     "metadata": {},
     "output_type": "execute_result"
    }
   ],
   "source": [
    "# names_modified=[]\n",
    "# for i in names:\n",
    "#     names_modified.append(\"\".join(re.split(\"[^a-zA-Z]*\", i)))\n",
    "# # names_modified\n",
    "names_final=list(set(names))\n",
    "names_final=sorted(names_final)\n",
    "len(names_final)\n",
    "names_final"
   ]
  },
  {
   "cell_type": "code",
   "execution_count": 4,
   "id": "efc9a316",
   "metadata": {},
   "outputs": [
    {
     "ename": "NameError",
     "evalue": "name 'names_modified' is not defined",
     "output_type": "error",
     "traceback": [
      "\u001b[0;31m---------------------------------------------------------------------------\u001b[0m",
      "\u001b[0;31mNameError\u001b[0m                                 Traceback (most recent call last)",
      "Input \u001b[0;32mIn [4]\u001b[0m, in \u001b[0;36m<cell line: 12>\u001b[0;34m()\u001b[0m\n\u001b[1;32m     10\u001b[0m     \u001b[38;5;28;01mreturn\u001b[39;00m new_text\n\u001b[1;32m     11\u001b[0m names_final\u001b[38;5;241m=\u001b[39m[]\n\u001b[0;32m---> 12\u001b[0m \u001b[38;5;28;01mfor\u001b[39;00m i \u001b[38;5;129;01min\u001b[39;00m \u001b[43mnames_modified\u001b[49m:\n\u001b[1;32m     13\u001b[0m     names_final\u001b[38;5;241m.\u001b[39mappend(finding_name(i))\n",
      "\u001b[0;31mNameError\u001b[0m: name 'names_modified' is not defined"
     ]
    }
   ],
   "source": [
    "def finding_name(text):\n",
    "    new_text=''\n",
    "    for i, letter in enumerate(text):\n",
    "        if i==0:\n",
    "            pass\n",
    "        if i and letter.isupper():\n",
    "            new_text += ' '\n",
    "\n",
    "        new_text += letter\n",
    "    return new_text\n",
    "names_final=[]\n",
    "for i in names_modified:\n",
    "    names_final.append(finding_name(i))\n",
    "# names_final"
   ]
  },
  {
   "cell_type": "code",
   "execution_count": 63,
   "id": "34fc50be",
   "metadata": {},
   "outputs": [
    {
     "data": {
      "text/plain": [
       "Minerva Francis    2\n",
       "Giselle Acco       2\n",
       "Beatriz Salazar    2\n",
       "Jodi Ann Young     2\n",
       "Magalie Bruneus    2\n",
       "Huma Gulnar        2\n",
       "Sefton Bennett     2\n",
       "Kelly Levano       2\n",
       "Cathy Ho           2\n",
       "Samira Daher       2\n",
       "Name: Name, dtype: int64"
      ]
     },
     "execution_count": 63,
     "metadata": {},
     "output_type": "execute_result"
    }
   ],
   "source": [
    "df['Name']=names_final\n",
    "df['Name'].value_counts().head(10)"
   ]
  },
  {
   "cell_type": "code",
   "execution_count": 65,
   "id": "589557d9",
   "metadata": {},
   "outputs": [
    {
     "data": {
      "text/html": [
       "<div>\n",
       "<style scoped>\n",
       "    .dataframe tbody tr th:only-of-type {\n",
       "        vertical-align: middle;\n",
       "    }\n",
       "\n",
       "    .dataframe tbody tr th {\n",
       "        vertical-align: top;\n",
       "    }\n",
       "\n",
       "    .dataframe thead th {\n",
       "        text-align: right;\n",
       "    }\n",
       "</style>\n",
       "<table border=\"1\" class=\"dataframe\">\n",
       "  <thead>\n",
       "    <tr style=\"text-align: right;\">\n",
       "      <th></th>\n",
       "      <th>LName</th>\n",
       "      <th>FName</th>\n",
       "      <th>Campus</th>\n",
       "      <th>Name</th>\n",
       "    </tr>\n",
       "  </thead>\n",
       "  <tbody>\n",
       "    <tr>\n",
       "      <th>8</th>\n",
       "      <td>Acco</td>\n",
       "      <td>Giselle</td>\n",
       "      <td>BMCC</td>\n",
       "      <td>Giselle Acco</td>\n",
       "    </tr>\n",
       "    <tr>\n",
       "      <th>53</th>\n",
       "      <td>Acco</td>\n",
       "      <td>Giselle</td>\n",
       "      <td>LGCC</td>\n",
       "      <td>Giselle Acco</td>\n",
       "    </tr>\n",
       "    <tr>\n",
       "      <th>65</th>\n",
       "      <td>Francis</td>\n",
       "      <td>Minerva</td>\n",
       "      <td>NYCCT</td>\n",
       "      <td>Minerva Francis</td>\n",
       "    </tr>\n",
       "    <tr>\n",
       "      <th>66</th>\n",
       "      <td>Salazar</td>\n",
       "      <td>Beatriz</td>\n",
       "      <td>NYCCT</td>\n",
       "      <td>Beatriz Salazar</td>\n",
       "    </tr>\n",
       "    <tr>\n",
       "      <th>68</th>\n",
       "      <td>Young</td>\n",
       "      <td>Jodi-Ann</td>\n",
       "      <td>NYCCT</td>\n",
       "      <td>Jodi Ann Young</td>\n",
       "    </tr>\n",
       "    <tr>\n",
       "      <th>71</th>\n",
       "      <td>Francis</td>\n",
       "      <td>Minerva</td>\n",
       "      <td>NYCCT</td>\n",
       "      <td>Minerva Francis</td>\n",
       "    </tr>\n",
       "    <tr>\n",
       "      <th>72</th>\n",
       "      <td>Salazar</td>\n",
       "      <td>Beatriz</td>\n",
       "      <td>NYCCT</td>\n",
       "      <td>Beatriz Salazar</td>\n",
       "    </tr>\n",
       "    <tr>\n",
       "      <th>73</th>\n",
       "      <td>Young</td>\n",
       "      <td>Jodi-Ann</td>\n",
       "      <td>NYCCT</td>\n",
       "      <td>Jodi Ann Young</td>\n",
       "    </tr>\n",
       "    <tr>\n",
       "      <th>75</th>\n",
       "      <td>Bruneus</td>\n",
       "      <td>Magalie</td>\n",
       "      <td>QCC</td>\n",
       "      <td>Magalie Bruneus</td>\n",
       "    </tr>\n",
       "    <tr>\n",
       "      <th>84</th>\n",
       "      <td>Bruneus</td>\n",
       "      <td>Magalie</td>\n",
       "      <td>QCC</td>\n",
       "      <td>Magalie Bruneus</td>\n",
       "    </tr>\n",
       "  </tbody>\n",
       "</table>\n",
       "</div>"
      ],
      "text/plain": [
       "         LName      FName  Campus             Name\n",
       "8        Acco    Giselle    BMCC      Giselle Acco\n",
       "53       Acco    Giselle    LGCC      Giselle Acco\n",
       "65    Francis    Minerva   NYCCT   Minerva Francis\n",
       "66    Salazar    Beatriz   NYCCT   Beatriz Salazar\n",
       "68      Young   Jodi-Ann   NYCCT    Jodi Ann Young\n",
       "71    Francis    Minerva   NYCCT   Minerva Francis\n",
       "72    Salazar   Beatriz    NYCCT   Beatriz Salazar\n",
       "73      Young   Jodi-Ann   NYCCT    Jodi Ann Young\n",
       "75    Bruneus    Magalie     QCC   Magalie Bruneus\n",
       "84   Bruneus     Magalie     QCC   Magalie Bruneus"
      ]
     },
     "execution_count": 65,
     "metadata": {},
     "output_type": "execute_result"
    }
   ],
   "source": [
    "df[df['Name'].isin(['Minerva Francis','Giselle Acco','Beatriz Salazar','Jodi Ann Young','Magalie Bruneus'])]"
   ]
  },
  {
   "cell_type": "code",
   "execution_count": 52,
   "id": "53aea2e8",
   "metadata": {},
   "outputs": [
    {
     "data": {
      "text/plain": [
       "82"
      ]
     },
     "execution_count": 52,
     "metadata": {},
     "output_type": "execute_result"
    }
   ],
   "source": [
    "names_final=list(set(names_final))\n",
    "len(names_final)"
   ]
  },
  {
   "cell_type": "markdown",
   "id": "3063a41d",
   "metadata": {},
   "source": [
    "good Youtube videos:\n",
    "1. [link]https://www.youtube.com/watch?v=zkfLAY2OrtI\n",
    "2. [link]https://www.linkedin.com/learning/python-automation-and-testing/what-is-the-html-dom-structure?autoplay=true&resume=false"
   ]
  },
  {
   "cell_type": "code",
   "execution_count": 2,
   "id": "e344f73d",
   "metadata": {},
   "outputs": [],
   "source": [
    "# Task 1: Login to Linkedin\n",
    "\n",
    "credential=open('login_credential.txt')\n",
    "line=credential.readlines()\n",
    "username=line[0]\n",
    "password=line[1]\n",
    "\n",
    "# Task 1.1: Open Chrome and Access Linkedin login site\n",
    "driver =webdriver.Chrome()\n",
    "url = 'https://www.linkedin.com/login'\n",
    "driver.get(url)\n",
    "sleep(2)\n",
    "\n",
    "# Task 1.2: Key in login credentials\n",
    "email_field = driver.find_element('name','session_key')\n",
    "email_field.send_keys(username)\n",
    "sleep(2)\n",
    "\n",
    "password_field = driver.find_element('id','password')\n",
    "password_field.send_keys(password)\n",
    "sleep(2)\n",
    "\n",
    "# Task 1.2: Click the Login button\n",
    "\n",
    "login_field = driver.find_element('xpath',\"/html/body/div/main/div[2]/div[1]/form/div[3]/button\")\n",
    "login_field.click()\n",
    "sleep(2)"
   ]
  },
  {
   "cell_type": "code",
   "execution_count": 6,
   "id": "4a402c08",
   "metadata": {},
   "outputs": [
    {
     "ename": "NoSuchElementException",
     "evalue": "Message: no such element: Unable to locate element: {\"method\":\"xpath\",\"selector\":\"//*[@id=\"search-reusables__filters-bar\"]/ul/li[1]/button\"}\n  (Session info: chrome=109.0.5414.119)\nStacktrace:\n0   chromedriver                        0x00000001004fa7a8 chromedriver + 4896680\n1   chromedriver                        0x0000000100479db3 chromedriver + 4369843\n2   chromedriver                        0x00000001000c3a37 chromedriver + 477751\n3   chromedriver                        0x000000010010862c chromedriver + 759340\n4   chromedriver                        0x0000000100108881 chromedriver + 759937\n5   chromedriver                        0x000000010014c054 chromedriver + 1036372\n6   chromedriver                        0x000000010012e48d chromedriver + 914573\n7   chromedriver                        0x000000010014944e chromedriver + 1025102\n8   chromedriver                        0x000000010012e233 chromedriver + 913971\n9   chromedriver                        0x00000001000f845c chromedriver + 693340\n10  chromedriver                        0x00000001000f99de chromedriver + 698846\n11  chromedriver                        0x00000001004c8ace chromedriver + 4692686\n12  chromedriver                        0x00000001004ccda1 chromedriver + 4709793\n13  chromedriver                        0x00000001004cd5aa chromedriver + 4711850\n14  chromedriver                        0x00000001004d462f chromedriver + 4740655\n15  chromedriver                        0x00000001004cdcaa chromedriver + 4713642\n16  chromedriver                        0x00000001004a1992 chromedriver + 4532626\n17  chromedriver                        0x00000001004ec3c8 chromedriver + 4838344\n18  chromedriver                        0x00000001004ec545 chromedriver + 4838725\n19  chromedriver                        0x00000001005026ef chromedriver + 4929263\n20  libsystem_pthread.dylib             0x00007ff80ec7d4e1 _pthread_start + 125\n21  libsystem_pthread.dylib             0x00007ff80ec78f6b thread_start + 15\n",
     "output_type": "error",
     "traceback": [
      "\u001b[0;31m---------------------------------------------------------------------------\u001b[0m",
      "\u001b[0;31mNoSuchElementException\u001b[0m                    Traceback (most recent call last)",
      "Input \u001b[0;32mIn [6]\u001b[0m, in \u001b[0;36m<cell line: 16>\u001b[0;34m()\u001b[0m\n\u001b[1;32m     13\u001b[0m type_field\u001b[38;5;241m.\u001b[39msend_keys(Keys\u001b[38;5;241m.\u001b[39mRETURN)\n\u001b[1;32m     14\u001b[0m sleep(\u001b[38;5;241m1\u001b[39m)\n\u001b[0;32m---> 16\u001b[0m \u001b[43mdriver\u001b[49m\u001b[38;5;241;43m.\u001b[39;49m\u001b[43mfind_element\u001b[49m\u001b[43m(\u001b[49m\u001b[38;5;124;43m'\u001b[39;49m\u001b[38;5;124;43mxpath\u001b[39;49m\u001b[38;5;124;43m'\u001b[39;49m\u001b[43m,\u001b[49m\u001b[38;5;124;43m'\u001b[39;49m\u001b[38;5;124;43m//*[@id=\u001b[39;49m\u001b[38;5;124;43m\"\u001b[39;49m\u001b[38;5;124;43msearch-reusables__filters-bar\u001b[39;49m\u001b[38;5;124;43m\"\u001b[39;49m\u001b[38;5;124;43m]/ul/li[1]/button\u001b[39;49m\u001b[38;5;124;43m'\u001b[39;49m\u001b[43m)\u001b[49m\u001b[38;5;241m.\u001b[39mclick()\n\u001b[1;32m     17\u001b[0m driver\u001b[38;5;241m.\u001b[39mfind_element(\u001b[38;5;124m'\u001b[39m\u001b[38;5;124mxpath\u001b[39m\u001b[38;5;124m'\u001b[39m,\u001b[38;5;124m\"\u001b[39m\u001b[38;5;124m/html/body/div[5]/header/div/div/div/div[1]/input\u001b[39m\u001b[38;5;124m\"\u001b[39m)\u001b[38;5;241m.\u001b[39mclear()\n",
      "File \u001b[0;32m~/opt/anaconda3/lib/python3.9/site-packages/selenium/webdriver/remote/webdriver.py:856\u001b[0m, in \u001b[0;36mWebDriver.find_element\u001b[0;34m(self, by, value)\u001b[0m\n\u001b[1;32m    853\u001b[0m     by \u001b[38;5;241m=\u001b[39m By\u001b[38;5;241m.\u001b[39mCSS_SELECTOR\n\u001b[1;32m    854\u001b[0m     value \u001b[38;5;241m=\u001b[39m \u001b[38;5;124m'\u001b[39m\u001b[38;5;124m[name=\u001b[39m\u001b[38;5;124m\"\u001b[39m\u001b[38;5;132;01m%s\u001b[39;00m\u001b[38;5;124m\"\u001b[39m\u001b[38;5;124m]\u001b[39m\u001b[38;5;124m'\u001b[39m \u001b[38;5;241m%\u001b[39m value\n\u001b[0;32m--> 856\u001b[0m \u001b[38;5;28;01mreturn\u001b[39;00m \u001b[38;5;28;43mself\u001b[39;49m\u001b[38;5;241;43m.\u001b[39;49m\u001b[43mexecute\u001b[49m\u001b[43m(\u001b[49m\u001b[43mCommand\u001b[49m\u001b[38;5;241;43m.\u001b[39;49m\u001b[43mFIND_ELEMENT\u001b[49m\u001b[43m,\u001b[49m\u001b[43m \u001b[49m\u001b[43m{\u001b[49m\n\u001b[1;32m    857\u001b[0m \u001b[43m    \u001b[49m\u001b[38;5;124;43m'\u001b[39;49m\u001b[38;5;124;43musing\u001b[39;49m\u001b[38;5;124;43m'\u001b[39;49m\u001b[43m:\u001b[49m\u001b[43m \u001b[49m\u001b[43mby\u001b[49m\u001b[43m,\u001b[49m\n\u001b[1;32m    858\u001b[0m \u001b[43m    \u001b[49m\u001b[38;5;124;43m'\u001b[39;49m\u001b[38;5;124;43mvalue\u001b[39;49m\u001b[38;5;124;43m'\u001b[39;49m\u001b[43m:\u001b[49m\u001b[43m \u001b[49m\u001b[43mvalue\u001b[49m\u001b[43m}\u001b[49m\u001b[43m)\u001b[49m[\u001b[38;5;124m'\u001b[39m\u001b[38;5;124mvalue\u001b[39m\u001b[38;5;124m'\u001b[39m]\n",
      "File \u001b[0;32m~/opt/anaconda3/lib/python3.9/site-packages/selenium/webdriver/remote/webdriver.py:429\u001b[0m, in \u001b[0;36mWebDriver.execute\u001b[0;34m(self, driver_command, params)\u001b[0m\n\u001b[1;32m    427\u001b[0m response \u001b[38;5;241m=\u001b[39m \u001b[38;5;28mself\u001b[39m\u001b[38;5;241m.\u001b[39mcommand_executor\u001b[38;5;241m.\u001b[39mexecute(driver_command, params)\n\u001b[1;32m    428\u001b[0m \u001b[38;5;28;01mif\u001b[39;00m response:\n\u001b[0;32m--> 429\u001b[0m     \u001b[38;5;28;43mself\u001b[39;49m\u001b[38;5;241;43m.\u001b[39;49m\u001b[43merror_handler\u001b[49m\u001b[38;5;241;43m.\u001b[39;49m\u001b[43mcheck_response\u001b[49m\u001b[43m(\u001b[49m\u001b[43mresponse\u001b[49m\u001b[43m)\u001b[49m\n\u001b[1;32m    430\u001b[0m     response[\u001b[38;5;124m'\u001b[39m\u001b[38;5;124mvalue\u001b[39m\u001b[38;5;124m'\u001b[39m] \u001b[38;5;241m=\u001b[39m \u001b[38;5;28mself\u001b[39m\u001b[38;5;241m.\u001b[39m_unwrap_value(\n\u001b[1;32m    431\u001b[0m         response\u001b[38;5;241m.\u001b[39mget(\u001b[38;5;124m'\u001b[39m\u001b[38;5;124mvalue\u001b[39m\u001b[38;5;124m'\u001b[39m, \u001b[38;5;28;01mNone\u001b[39;00m))\n\u001b[1;32m    432\u001b[0m     \u001b[38;5;28;01mreturn\u001b[39;00m response\n",
      "File \u001b[0;32m~/opt/anaconda3/lib/python3.9/site-packages/selenium/webdriver/remote/errorhandler.py:243\u001b[0m, in \u001b[0;36mErrorHandler.check_response\u001b[0;34m(self, response)\u001b[0m\n\u001b[1;32m    241\u001b[0m         alert_text \u001b[38;5;241m=\u001b[39m value[\u001b[38;5;124m'\u001b[39m\u001b[38;5;124malert\u001b[39m\u001b[38;5;124m'\u001b[39m]\u001b[38;5;241m.\u001b[39mget(\u001b[38;5;124m'\u001b[39m\u001b[38;5;124mtext\u001b[39m\u001b[38;5;124m'\u001b[39m)\n\u001b[1;32m    242\u001b[0m     \u001b[38;5;28;01mraise\u001b[39;00m exception_class(message, screen, stacktrace, alert_text)  \u001b[38;5;66;03m# type: ignore[call-arg]  # mypy is not smart enough here\u001b[39;00m\n\u001b[0;32m--> 243\u001b[0m \u001b[38;5;28;01mraise\u001b[39;00m exception_class(message, screen, stacktrace)\n",
      "\u001b[0;31mNoSuchElementException\u001b[0m: Message: no such element: Unable to locate element: {\"method\":\"xpath\",\"selector\":\"//*[@id=\"search-reusables__filters-bar\"]/ul/li[1]/button\"}\n  (Session info: chrome=109.0.5414.119)\nStacktrace:\n0   chromedriver                        0x00000001004fa7a8 chromedriver + 4896680\n1   chromedriver                        0x0000000100479db3 chromedriver + 4369843\n2   chromedriver                        0x00000001000c3a37 chromedriver + 477751\n3   chromedriver                        0x000000010010862c chromedriver + 759340\n4   chromedriver                        0x0000000100108881 chromedriver + 759937\n5   chromedriver                        0x000000010014c054 chromedriver + 1036372\n6   chromedriver                        0x000000010012e48d chromedriver + 914573\n7   chromedriver                        0x000000010014944e chromedriver + 1025102\n8   chromedriver                        0x000000010012e233 chromedriver + 913971\n9   chromedriver                        0x00000001000f845c chromedriver + 693340\n10  chromedriver                        0x00000001000f99de chromedriver + 698846\n11  chromedriver                        0x00000001004c8ace chromedriver + 4692686\n12  chromedriver                        0x00000001004ccda1 chromedriver + 4709793\n13  chromedriver                        0x00000001004cd5aa chromedriver + 4711850\n14  chromedriver                        0x00000001004d462f chromedriver + 4740655\n15  chromedriver                        0x00000001004cdcaa chromedriver + 4713642\n16  chromedriver                        0x00000001004a1992 chromedriver + 4532626\n17  chromedriver                        0x00000001004ec3c8 chromedriver + 4838344\n18  chromedriver                        0x00000001004ec545 chromedriver + 4838725\n19  chromedriver                        0x00000001005026ef chromedriver + 4929263\n20  libsystem_pthread.dylib             0x00007ff80ec7d4e1 _pthread_start + 125\n21  libsystem_pthread.dylib             0x00007ff80ec78f6b thread_start + 15\n"
     ]
    }
   ],
   "source": [
    "# Task 2: Search for the profile we want to crawl\n",
    "\n",
    "# Task 2.1: Locate the search bar element\n",
    "# search_field = driver.find_element('xpath',\"//button[@aria-label='Click to start a search'][@type='button']\")\n",
    "# search_field.click()\n",
    "\n",
    "# Task 2.2: Input the search query to the search bar\n",
    "#search_query = input(\"what do you want to search:\")#using the list from Dr C\n",
    "type_field=driver.find_element('xpath',\"/html/body/div[5]/header/div/div/div/div[1]/input\")\n",
    "type_field.send_keys(names_final[0])\n",
    "\n",
    "# Task 2.3: Search for CUNY student and click on People\n",
    "type_field.send_keys(Keys.RETURN)\n",
    "sleep(1)\n",
    "\n",
    "driver.find_element('xpath','//*[@id=\"search-reusables__filters-bar\"]/ul/li[1]/button').click()\n",
    "driver.find_element('xpath',\"/html/body/div[5]/header/div/div/div/div[1]/input\").clear()\n"
   ]
  },
  {
   "cell_type": "code",
   "execution_count": 7,
   "id": "e7ac1924",
   "metadata": {},
   "outputs": [],
   "source": [
    "# Task 3: Scrape the URLs of the profiles\n",
    "\n",
    "# Task 3.1: Write a function to extract the URLs of one page\n",
    "def GetURL():\n",
    "    page_source = BeautifulSoup(driver.page_source)\n",
    "    profiles = page_source.find_all('div',class_=\"entity-result__item\") \n",
    "\n",
    "\n",
    "    all_profile_url=[]\n",
    "    for profile in profiles:\n",
    "        profile_url=profile.find('a',class_=\"app-aware-link\")['href']\n",
    "        if profile_url not in all_profile_url:\n",
    "            all_profile_url.append(profile_url)\n",
    "    if len(all_profile_url)>=5:\n",
    "        return all_profile_url[0:5]\n",
    "    return all_profile_url\n",
    "\n",
    "\n",
    "   \n",
    "\n",
    "\n",
    "# # Task 3.2: Navigate through the next pages, and extract the profile URLs of each page\n",
    "\n",
    "# def GetURL_pages():\n",
    "#     input_page = 1\n",
    "#     URLs_all_page = []\n",
    "#     for page in range(input_page):\n",
    "#         URLs_one_page = GetURL()\n",
    "#         driver.execute_script('window.scrollTo(0,document.body.scrollHeight)')#we need to scroll down to Next page button\n",
    "#         sleep(1)\n",
    "#         next_button = driver.find_element('xpath',\"//button[@aria-label='Next'][@type='button']\").click()\n",
    "#         URLs_all_page = URLs_all_page + URLs_one_page\n",
    "        \n",
    "#         sleep(1)\n",
    "#     return URLs_all_page\n",
    "\n",
    "# URLs_all_page=GetURL_pages()\n",
    "# print(URLs_all_page)"
   ]
  },
  {
   "cell_type": "code",
   "execution_count": 47,
   "id": "2bc1b0d2",
   "metadata": {},
   "outputs": [
    {
     "data": {
      "text/plain": [
       "array(['https://www.linkedin.com/in/abdelhamid-jnane-01011b26?miniProfileUrn=urn%3Ali%3Afs_miniProfile%3AACoAAAVbR0wBFW2fk0kw2QXU1AdVcx6QXmqrA6o'],\n",
       "      dtype='<U136')"
      ]
     },
     "execution_count": 47,
     "metadata": {},
     "output_type": "execute_result"
    }
   ],
   "source": [
    "all_URLs=[]\n",
    "all_URLs=np.concatenate((all_URLs,GetURL()),axis=None)\n",
    "all_URLs"
   ]
  },
  {
   "cell_type": "code",
   "execution_count": 48,
   "id": "4e82a134",
   "metadata": {},
   "outputs": [],
   "source": [
    "for i in range(1,len(names_final)):\n",
    "    #step1: let us search for the person\n",
    "    type_field=driver.find_element('xpath',\"/html/body/div[5]/header/div/div/div/div[1]/input\")\n",
    "    type_field.send_keys(names_final[i])\n",
    "    type_field.send_keys(Keys.RETURN)\n",
    "    sleep(2)\n",
    "    all_URLs=np.concatenate((all_URLs,GetURL()),axis=None)\n",
    "    sleep(1)\n",
    "    driver.find_element('xpath',\"/html/body/div[5]/header/div/div/div/div[1]/input\").clear()\n",
    "    sleep(1)\n",
    "\n"
   ]
  },
  {
   "cell_type": "code",
   "execution_count": 51,
   "id": "156a702e",
   "metadata": {},
   "outputs": [
    {
     "data": {
      "text/plain": [
       "308"
      ]
     },
     "execution_count": 51,
     "metadata": {},
     "output_type": "execute_result"
    }
   ],
   "source": [
    "URLs_all_page=[]\n",
    "\n",
    "for i in all_URLs:\n",
    "    if \"https://www.linkedin.com/in/\" in i:\n",
    "        URLs_all_page.append(i)\n",
    "# print(URLs_all_page)\n",
    "len(URLs_all_page)"
   ]
  },
  {
   "cell_type": "code",
   "execution_count": 53,
   "id": "35202975",
   "metadata": {},
   "outputs": [],
   "source": [
    "# dictionary of lists  \n",
    "dict = {'url': URLs_all_page}  \n",
    "       \n",
    "df_url= pd.DataFrame(dict) \n",
    "df_url\n",
    "# saving the dataframe \n",
    "df_url.to_csv('new_URL.csv') \n"
   ]
  },
  {
   "cell_type": "code",
   "execution_count": 7,
   "id": "0b87e9f9",
   "metadata": {},
   "outputs": [],
   "source": [
    "df_new=pd.read_csv('new_URL.csv')\n",
    "df_new\n",
    "# URLs=list(df_new['url'][260:])\n",
    "#URLs.append(df_new['url'][297])\n",
    "URLs=[\n",
    "'https://www.linkedin.com/in/lori-collins-a6411b1b9',\n",
    "'https://www.linkedin.com/in/vaughn-clai-marsh-a050932',\n",
    "'https://www.linkedin.com/in/allieorellana',\n",
    "'https://www.linkedin.com/in/aalasiglesias',\n",
    "'https://www.linkedin.com/in/angela-padilla-985761237',\n",
    "'https://www.linkedin.com/in/doreanflores',\n",
    "'https://www.linkedin.com/in/anthony-cruz-balberdy-48815b73',\n",
    "'https://www.linkedin.com/in/andrew-wills-67a1a289']"
   ]
  },
  {
   "cell_type": "code",
   "execution_count": 8,
   "id": "c852d107",
   "metadata": {},
   "outputs": [
    {
     "name": "stdout",
     "output_type": "stream",
     "text": [
      "\n",
      "\n",
      "\n",
      "\n",
      "\n",
      "\n",
      "\n",
      "\n",
      "\n",
      "\n",
      "\n",
      "\n",
      "\n",
      "\n",
      "\n",
      "\n"
     ]
    }
   ],
   "source": [
    "# Task 4: Scrape the data of 1 Linkedin profile, and write the data to a .CSV file\n",
    "with open('l1_missingPPL.csv', 'w',  newline = '') as file_output:\n",
    "    headers = ['Name', 'Job Title', 'Location','Degrees','Schools','Work Places','Work Titles','URL',]\n",
    "    writer = csv.DictWriter(file_output, delimiter=',', lineterminator='\\n',fieldnames=headers)\n",
    "    writer.writeheader()\n",
    "    \n",
    "    for linkedin_URL in URLs:\n",
    "        driver.get(linkedin_URL)\n",
    "#         print(linkedin_URL)\n",
    "        sleep(1)\n",
    "        page_source = BeautifulSoup(driver.page_source, \"html.parser\")\n",
    "        info_div = page_source.find('div',{'class':'mt2 relative'})\n",
    "\n",
    "        name = info_div.find('h1', class_='text-heading-xlarge inline t-24 v-align-middle break-words').get_text().strip() #Remove unnecessary characters \n",
    "        #print('--- Profile name is: ', name)\n",
    "        location = info_div.find('span', class_='text-body-small inline t-black--light break-words').get_text().strip() #Remove unnecessary characters \n",
    "        #print('--- Profile location is: ', location)\n",
    "        title = info_div.find('div', class_='text-body-medium break-words').get_text().strip()\n",
    "        #print('--- Profile title is: ', title)\n",
    "        \n",
    "        working_titles=[]\n",
    "        working_places=[]\n",
    "        if page_source.find('div',{'id':'experience'}):\n",
    "            work_exp=page_source.find('div',{'id':'experience'}).find_parent().find('ul',{'class':'pvs-list ph5 display-flex flex-row flex-wrap'})\n",
    "            for i in work_exp.find_all('span',class_='mr1 t-bold'):\n",
    "                working_titles.append(i.get_text())\n",
    "            for i in work_exp.find_all('span',class_='t-14 t-normal'):\n",
    "                working_places.append(i.get_text())\n",
    "        \n",
    "        \n",
    "        degrees=[]\n",
    "        schools=[]\n",
    "        if page_source.find('div',{'id':'education'}):\n",
    "            ed_exp=page_source.find('div',{'id':'education'}).find_parent().find('ul',{'class':'pvs-list ph5 display-flex flex-row flex-wrap'})\n",
    "            for i in ed_exp.find_all('span',class_='t-14 t-normal'):\n",
    "                degrees.append(i.get_text())\n",
    "            for j in ed_exp.find_all('span',class_='mr1 hoverable-link-text t-bold'):\n",
    "                schools.append(j.get_text())\n",
    "        \n",
    "        writer.writerow({headers[0]:name, headers[2]:location, headers[1]:title,\n",
    "                         headers[3]:degrees, headers[4]:schools,\n",
    "                         headers[5]:working_places,headers[6]:working_titles, headers[7]:linkedin_URL})\n",
    "        print('\\n')\n",
    "    \n",
    "        \n",
    "\n"
   ]
  },
  {
   "cell_type": "code",
   "execution_count": 23,
   "id": "e6a25d51",
   "metadata": {},
   "outputs": [
    {
     "name": "stdout",
     "output_type": "stream",
     "text": [
      "['\\nVisiting Research ScholarVisiting Research Scholar\\n', '\\nResearch Associate - Substitute Research Associate for 1 year then Full Research Associate Research Associate - Substitute Research Associate for 1 year then Full Research Associate \\n', '\\nPostdoctoral Visiting Research ScientistPostdoctoral Visiting Research Scientist\\n']\n",
      "['\\nFull-time · 7 yrsFull-time · 7 yrs\\n', '\\nUniversity of Michigan, Ann Arbor - Randall LaboratoryUniversity of Michigan, Ann Arbor - Randall Laboratory\\n', '\\nInstitute for Ultrafast Spectroscopy and Lasers (IUSL), City University of New York · Full-timeInstitute for Ultrafast Spectroscopy and Lasers (IUSL), City University of New York · Full-time\\n', '\\nThe City University of New YorkThe City University of New York\\n', '\\n5 yrs 8 mos5 yrs 8 mos\\n']\n",
      "['\\nDec 2020 - Present · 2 yrs 3 mosDec 2020 - Present · 2 yrs 3 mos\\n', '\\nUnited StatesUnited States\\n', '\\nMar 2016 - Dec 2020 · 4 yrs 10 mosMar 2016 - Dec 2020 · 4 yrs 10 mos\\n', '\\nEast Hartford, CTEast Hartford, CT\\n', '\\nMar 2016 - Present · 7 yrsMar 2016 - Present · 7 yrs\\n', '\\nAnn Arbor, MIAnn Arbor, MI\\n', '\\nFeb 2013 - Mar 2016 · 3 yrs 2 mosFeb 2013 - Mar 2016 · 3 yrs 2 mos\\n', '\\nNew York, NYNew York, NY\\n', '\\nOct 2012 - Jan 2013 · 4 mosOct 2012 - Jan 2013 · 4 mos\\n', '\\nNew York, NYNew York, NY\\n', '\\nAnn Arbor, MIAnn Arbor, MI\\n', '\\n2007 - 2012 · 5 yrs2007 - 2012 · 5 yrs\\n', '\\nJun 2006 - Aug 2007 · 1 yr 3 mosJun 2006 - Aug 2007 · 1 yr 3 mos\\n']\n",
      "['\\nDoctor of Philosophy (Ph.D.), Applied PhysicsDoctor of Philosophy (Ph.D.), Applied Physics\\n', \"\\nMaster's Degree, Electrical EngineeringMaster's Degree, Electrical Engineering\\n\", \"\\nBachelor's Degree, double major in Physics and MathematicsBachelor's Degree, double major in Physics and Mathematics\\n\"]\n",
      "['\\nUniversity of MichiganUniversity of Michigan\\n', '\\nUniversity of Michigan College of EngineeringUniversity of Michigan College of Engineering\\n', '\\nYork College of the City University of New YorkYork College of the City University of New York\\n']\n",
      "['\\n20122012\\n', '\\n20082008\\n', '\\n2002 - 20062002 - 2006\\n']\n"
     ]
    }
   ],
   "source": [
    "driver.get('https://www.linkedin.com/in/yisa-rumala-15001b16?miniProfileUrn=urn%3Ali%3Afs_miniProfile%3AACoAAAM0vAwBvI3QP9veYd4C4oUxBoOAjt2Hua0')\n",
    "sleep(1)\n",
    "page_source = BeautifulSoup(driver.page_source, \"html.parser\")\n",
    "\n",
    "working_titles=[]\n",
    "working_places=[]\n",
    "yrs_exp=[]\n",
    "if page_source.find('div',{'id':'experience'}):\n",
    "    work_exp=page_source.find('div',{'id':'experience'}).find_parent().find('ul',{'class':'pvs-list ph5 display-flex flex-row flex-wrap'})\n",
    "\n",
    "    \n",
    "    for i in work_exp.find_all('span',class_='mr1 t-bold'):\n",
    "        working_titles.append(i.get_text())\n",
    "    \n",
    "    \n",
    "    for i in work_exp.find_all('span',class_='t-14 t-normal'):\n",
    "        working_places.append(i.get_text())\n",
    "\n",
    "\n",
    "    for i in work_exp.find_all('span',class_='t-14 t-normal t-black--light'):\n",
    "        yrs_exp.append(i.get_text())\n",
    "\n",
    "\n",
    "print(working_titles)\n",
    "print(working_places)\n",
    "print(yrs_exp)\n",
    "\n",
    "degrees=[]\n",
    "schools=[]\n",
    "years_ed=[]\n",
    "if page_source.find('div',{'id':'education'}):\n",
    "    ed_exp=page_source.find('div',{'id':'education'}).find_parent().find('ul',{'class':'pvs-list ph5 display-flex flex-row flex-wrap'})\n",
    "    for i in ed_exp.find_all('span',class_='t-14 t-normal'):\n",
    "        degrees.append(i.get_text())\n",
    "    for j in ed_exp.find_all('span',class_='mr1 hoverable-link-text t-bold'):\n",
    "        schools.append(j.get_text())\n",
    "    for k in ed_exp.find_all('span',class_='t-14 t-normal t-black--light'):\n",
    "        years_ed.append(k.get_text())\n",
    "        \n",
    "print(degrees)\n",
    "print(schools)\n",
    "print(years_ed)"
   ]
  },
  {
   "cell_type": "code",
   "execution_count": 17,
   "id": "5e2c9409",
   "metadata": {},
   "outputs": [],
   "source": [
    "page_source.find('div',{'id':'experience'})"
   ]
  },
  {
   "cell_type": "code",
   "execution_count": 29,
   "id": "240743d6",
   "metadata": {},
   "outputs": [],
   "source": [
    "df_o4=pd.read_csv('output4.csv')\n",
    "df_o3=pd.read_csv('output3.csv')\n",
    "df_o2=pd.read_csv('output2.csv')\n",
    "df_o1=pd.read_csv('output1.csv')\n",
    "df_o=pd.concat([df_o3,df_o2,df_o1,df_o4])\n",
    "df_o.reset_index(drop=True,inplace=True)"
   ]
  },
  {
   "cell_type": "code",
   "execution_count": 27,
   "id": "1a73c0c7",
   "metadata": {},
   "outputs": [
    {
     "data": {
      "text/plain": [
       "'CUNY New York City College of Technology|College of Staten Island|Lehman College|LaGuardia Community College|Baruch College|Queens College|Queensborough Community College|Borough of Manhattan Community College|CUNY Bronx Community College|Kingsborough Community College|CUNY York College|CUNY Hostos Community College|Hunter College|Medgar Evers College, CUNY|John Jay College (CUNY)|Brooklyn College|The City College of New York'"
      ]
     },
     "execution_count": 27,
     "metadata": {},
     "output_type": "execute_result"
    }
   ],
   "source": [
    "campuses=['CUNY New York City College of Technology','College of Staten Island',\n",
    "          'Lehman College','LaGuardia Community College',\n",
    "          \n",
    "          'Baruch College', 'Queens College',\n",
    "           'Queensborough Community College',\n",
    "          \n",
    "          'Borough of Manhattan Community College','CUNY Bronx Community College',\n",
    "          'Kingsborough Community College',\n",
    "          \n",
    "          'CUNY York College',\n",
    "          'CUNY Hostos Community College', 'Hunter College',\n",
    "          'Medgar Evers College, CUNY',\n",
    "          'John Jay College (CUNY)',\n",
    "         'Brooklyn College',\n",
    "          'The City College of New York',]\n",
    "\n",
    "reg_campus=''\n",
    "for i in campuses:\n",
    "    reg_campus+=i\n",
    "    reg_campus+='|'\n",
    "reg_campus=reg_campus[0:-1]\n",
    "reg_campus"
   ]
  },
  {
   "cell_type": "code",
   "execution_count": 37,
   "id": "8abfd38e",
   "metadata": {},
   "outputs": [
    {
     "name": "stderr",
     "output_type": "stream",
     "text": [
      "/var/folders/c3/wqq2zhw90l596jqv25j63ggc0000gn/T/ipykernel_32653/3692875245.py:1: UserWarning: This pattern is interpreted as a regular expression, and has match groups. To actually get the groups, use str.extract.\n",
      "  df_o['CUNY students']=df_o['Schools'].str.contains(reg_campus,regex=True)\n"
     ]
    },
    {
     "data": {
      "text/plain": [
       "Mohammed Uddin                         2\n",
       "Minerva Francis                        1\n",
       "Vadim Acosta                           1\n",
       "Professor Rasheem Northington          1\n",
       "Ivan Baez, P.E.                        1\n",
       "JoAnn Caban                            1\n",
       "Natalie Dastas                         1\n",
       "Juliet Baidoo                          1\n",
       "Dr. Carol Woodburn McDonald            1\n",
       "Uchenna Unachukwu, Ph.D                1\n",
       "Nadine Bennett                         1\n",
       "Jodi-Ann Young, MSc., ACSM             1\n",
       "Rita Barley                            1\n",
       "Onyekwere O.                           1\n",
       "Sharon Lall-Ramnarine                  1\n",
       "Jean-Marc Carre                        1\n",
       "Mariya Alexandra Mayer, MSPAS, PA-C    1\n",
       "Marvin Bennett                         1\n",
       "Jenny Paredes, PhD                     1\n",
       "Jason Mighty                           1\n",
       "Moody Saint Louis                      1\n",
       "Françoise S.                           1\n",
       "Gillian (Cain) Walker                  1\n",
       "Reginald Dorcely                       1\n",
       "Clyde Lewis                            1\n",
       "Angela Padilla                         1\n",
       "Mohammad Uddin                         1\n",
       "Michael Tavarez, Ph.D.                 1\n",
       "Nkem Stanley                           1\n",
       "Sha-Ron Pierre, PhD                    1\n",
       "Jonathan B.                            1\n",
       "Adjiwanou Gbagba                       1\n",
       "Magalie Bruneus, MD                    1\n",
       "Adashima Oyo                           1\n",
       "Tamara L. Battle                       1\n",
       "Nia René                               1\n",
       "Andrew Blake                           1\n",
       "Giselle Acco                           1\n",
       "Name: Name, dtype: int64"
      ]
     },
     "execution_count": 37,
     "metadata": {},
     "output_type": "execute_result"
    }
   ],
   "source": [
    "df_o['CUNY students']=df_o['Schools'].str.contains(reg_campus,regex=True)\n",
    "CUNY_students=df_o[df_o['CUNY students']==True]\n",
    "CUNY_students['Name'].value_counts()"
   ]
  },
  {
   "cell_type": "code",
   "execution_count": 82,
   "id": "a2276fbb",
   "metadata": {},
   "outputs": [
    {
     "data": {
      "text/plain": [
       "4"
      ]
     },
     "execution_count": 82,
     "metadata": {},
     "output_type": "execute_result"
    }
   ],
   "source": [
    "CUNY_students.duplicated().sum()"
   ]
  },
  {
   "cell_type": "code",
   "execution_count": 36,
   "id": "4bc60b4b",
   "metadata": {},
   "outputs": [
    {
     "name": "stderr",
     "output_type": "stream",
     "text": [
      "/var/folders/c3/wqq2zhw90l596jqv25j63ggc0000gn/T/ipykernel_32653/2049067064.py:1: SettingWithCopyWarning: \n",
      "A value is trying to be set on a copy of a slice from a DataFrame\n",
      "\n",
      "See the caveats in the documentation: https://pandas.pydata.org/pandas-docs/stable/user_guide/indexing.html#returning-a-view-versus-a-copy\n",
      "  CUNY_students.drop_duplicates(inplace=True)\n"
     ]
    },
    {
     "data": {
      "text/plain": [
       "(39, 9)"
      ]
     },
     "execution_count": 36,
     "metadata": {},
     "output_type": "execute_result"
    }
   ],
   "source": [
    "CUNY_students.drop_duplicates(inplace=True)\n",
    "CUNY_students.shape"
   ]
  },
  {
   "cell_type": "code",
   "execution_count": 81,
   "id": "a37a2fc4",
   "metadata": {},
   "outputs": [
    {
     "data": {
      "text/plain": [
       "0      ['\\nAdjunct Assistant ProfessorAdjunct Assista...\n",
       "5      ['\\nData Integration ManagerData Integration M...\n",
       "10     ['\\nProject Engineer/Resident EngineerProject ...\n",
       "21     ['\\nInstructor and CSTEP Undergraduate Student...\n",
       "32     ['\\nFull Time Core Mathematics InstructorFull ...\n",
       "45                                                    []\n",
       "50     ['\\nData SpecialistData Specialist\\n', '\\nRese...\n",
       "53     ['\\nData EngineerData Engineer\\n', '\\nSenior D...\n",
       "54     ['\\nIT Support SpecialistIT Support Specialist...\n",
       "55     ['\\nResearch AssociateResearch Associate\\n', '...\n",
       "65          ['\\nAssociate DirectorAssociate Director\\n']\n",
       "70              ['\\nMedical DirectorMedical Director\\n']\n",
       "78     ['\\nMedical Science LiaisonMedical Science Lia...\n",
       "89     ['\\nAssistant Director, NYS- Collegiate Scienc...\n",
       "97     ['\\n Academic Medicine Hospitalist  Academic M...\n",
       "98     ['\\nAdjunct FacultyAdjunct Faculty\\n', '\\nAdju...\n",
       "100    ['\\nPolicy ManagerPolicy Manager\\n', '\\nPolicy...\n",
       "114    ['\\nEnvironmental ScientistEnvironmental Scien...\n",
       "118    ['\\nAutomotive TechnicianAutomotive Technician...\n",
       "140    ['\\nAssociate Professor/Biological and Chemist...\n",
       "160    ['\\nResearch AssistantResearch Assistant\\n', '...\n",
       "165    ['\\niOS Certified TechnicianiOS Certified Tech...\n",
       "170    ['\\nPostdoctoral ResearcherPostdoctoral Resear...\n",
       "175                           ['\\nProfessorProfessor\\n']\n",
       "193    ['\\nBridge Inspector / Assistan Team LeaderBri...\n",
       "197    ['\\nPermanent Substitute Chemistry Foundations...\n",
       "202    ['\\nAdjunct InstructorAdjunct Instructor\\n', '...\n",
       "203    ['\\nPhD CandidatePhD Candidate\\n', '\\nResearch...\n",
       "217    ['\\nTeacherTeacher\\n', '\\nTeacherTeacher\\n', '...\n",
       "229    ['\\nAdjunct Assistant Professor, Department of...\n",
       "245    ['\\nInstructorInstructor\\n', '\\nAdjunct Lectur...\n",
       "264             ['\\nAcademic AdvisorAcademic Advisor\\n']\n",
       "271                                                   []\n",
       "276    ['\\nPostdoctoral ScientistPostdoctoral Scienti...\n",
       "278    ['\\nResearch Collaborator and Guest ScientistR...\n",
       "293    ['\\nCombustion Turbine Parts Repair EngineerCo...\n",
       "298    ['\\nSurgical Physician AssistantSurgical Physi...\n",
       "302    ['\\nGraduate StudentGraduate Student\\n', '\\nAc...\n",
       "306    ['\\nActivity CoordinatorActivity Coordinator\\n...\n",
       "Name: Work Titles, dtype: object"
      ]
     },
     "execution_count": 81,
     "metadata": {},
     "output_type": "execute_result"
    }
   ],
   "source": [
    "CUNY_students['Work Titles']\n",
    "# CUNY_students['URL'][0]"
   ]
  },
  {
   "cell_type": "code",
   "execution_count": 80,
   "id": "d3b8b175",
   "metadata": {},
   "outputs": [
    {
     "name": "stdout",
     "output_type": "stream",
     "text": [
      "AdjunctAssistantProfessorAdjunctAssistantProfessor\n",
      "AdjunctAdjunct\n",
      "PredoctoralResearchFellowPredoctoralResearchFellow\n",
      "HealthEducatorHealthEducator\n",
      "CommunityHealthResearchCoordinatorHealthEducatorCommunityHealthResearchCoordinatorHealthEducator\n"
     ]
    },
    {
     "data": {
      "text/plain": [
       "['AdjunctAssistantProfessorAdjunctAssistantProfessor',\n",
       " 'AdjunctAdjunct',\n",
       " 'PredoctoralResearchFellowPredoctoralResearchFellow',\n",
       " 'HealthEducatorHealthEducator',\n",
       " 'CommunityHealthResearchCoordinatorHealthEducatorCommunityHealthResearchCoordinatorHealthEducator']"
      ]
     },
     "execution_count": 80,
     "metadata": {},
     "output_type": "execute_result"
    }
   ],
   "source": [
    "def clean_titles(A):\n",
    "    B=[]\n",
    "    for i in A:\n",
    "        j=''.join(re.findall('[a-zA-Z]+',i[2:-2]))\n",
    "        print(j)\n",
    "        B.append(j)\n",
    "    return B\n",
    "clean_titles(['\\\\nAdjunct Assistant ProfessorAdjunct Assistant Professor\\\\n', '\\\\nAdjunctAdjunct\\\\n', '\\\\nPre-doctoral Research FellowPre-doctoral Research Fellow\\\\n', '\\\\nHealth EducatorHealth Educator\\\\n', '\\\\nCommunity Health Research Coordinator / Health EducatorCommunity Health Research Coordinator / Health Educator\\\\n'])"
   ]
  },
  {
   "cell_type": "code",
   "execution_count": null,
   "id": "5be504fd",
   "metadata": {},
   "outputs": [],
   "source": []
  }
 ],
 "metadata": {
  "kernelspec": {
   "display_name": "Python 3 (ipykernel)",
   "language": "python",
   "name": "python3"
  },
  "language_info": {
   "codemirror_mode": {
    "name": "ipython",
    "version": 3
   },
   "file_extension": ".py",
   "mimetype": "text/x-python",
   "name": "python",
   "nbconvert_exporter": "python",
   "pygments_lexer": "ipython3",
   "version": "3.9.12"
  }
 },
 "nbformat": 4,
 "nbformat_minor": 5
}
